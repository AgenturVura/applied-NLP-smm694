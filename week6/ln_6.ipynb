{
 "cells": [
  {
   "cell_type": "raw",
   "metadata": {
    "slideshow": {
     "slide_type": "skip"
    }
   },
   "source": []
  },
  {
   "cell_type": "markdown",
   "metadata": {
    "slideshow": {
     "slide_type": "slide"
    }
   },
   "source": [
    "# Week 6\n",
    "\n",
    "# ―Information extraction\n",
    "\n",
    "<img src=\"images/_0.png\" width=\"20%\" >"
   ]
  },
  {
   "cell_type": "markdown",
   "metadata": {
    "slideshow": {
     "slide_type": "subslide"
    }
   },
   "source": [
    "# Agenda\n",
    "\n",
    "+ Nature of information extraction tasks (Chapter 18 of Jurafsky and Martin's book)\n",
    "+ Various forms of information extraction (Chapter 18 of Jurafsky and Martin's book)\n",
    "+ Real word example"
   ]
  },
  {
   "cell_type": "markdown",
   "metadata": {
    "slideshow": {
     "slide_type": "slide"
    }
   },
   "source": [
    "# A prototpycal information extraction task\n",
    "\n",
    "Imagine that you are an analyst with an investment firm that tracks airline \n",
    "stocks:\n",
    "\n",
    "+ You’re given the task of determining the relationship (if any) between \n",
    "  airline announcements of fare increases and the behavior of their \n",
    "  stocks the next day\n",
    "+ Historical data about stock prices is easy to come by, but what about \n",
    "  the airline announcements?\n",
    "  * You will need to know at least:\n",
    "    - the name of the airline\n",
    "    - the nature of the proposed fare hike\n",
    "    - the dates of the announcement\n",
    "    - the response of other airlines."
   ]
  },
  {
   "cell_type": "markdown",
   "metadata": {
    "slideshow": {
     "slide_type": "subslide"
    }
   },
   "source": [
    "# A prototypical document to process\n",
    "\n",
    "```\n",
    "Citing high fuel prices, United Airlines said Friday it has increased fares \n",
    "by $6 per round trip on flights to some cities also served by lower-cost \n",
    "carriers. American Airlines, a unit of AMR Corp., immediately matched the \n",
    "move, spokesman Tim Wagner said. United, a unit of UAL Corp., said the \n",
    "increase took effect Thursday and applies to most routes where it competes \n",
    "against discount carriers, such as Chicago to Dallas and Denver to San Francisco.\n",
    "```"
   ]
  },
  {
   "cell_type": "markdown",
   "metadata": {
    "slideshow": {
     "slide_type": "subslide"
    }
   },
   "source": [
    "# The information extraction process\n",
    "\n",
    "+ This process of information extraction (IE), turns the unstructured\n",
    "  information embedded in texts into structured data\n",
    "  - by structured data, we mean annotated words or combination of words\n",
    "  - these structured data can be used in different ways:\n",
    "    * to  populate a relational databases\n",
    "    * as features to be post-processed in a stat/ML analysis (e.g., to\n",
    "      cluster standard errors around entities, being companies, products,\n",
    "      or individuals)"
   ]
  },
  {
   "cell_type": "markdown",
   "metadata": {
    "slideshow": {
     "slide_type": "subslide"
    }
   },
   "source": [
    "# The information extraction process ― forms\n",
    "\n",
    "+ Named Entity Recognition $\\rightarrow$ locating names of companies, people, \n",
    "  or products\n",
    "+ Relation extraction  $\\rightarrow$ appreciating how two tokens are connected (e.g., employment relationship)\n",
    "+ Event extraction $\\rightarrow$ finding entity-event affiliations\n",
    "+ Temporal expressions $\\rightarrow$ isolating `datetime` and `deltatime` quantities\n",
    "+ Temporal normalization $\\rightarrow$ producing a timeline/partial order"
   ]
  },
  {
   "cell_type": "markdown",
   "metadata": {
    "slideshow": {
     "slide_type": "subslide"
    }
   },
   "source": [
    "# Information extraction != coreference resolution"
   ]
  },
  {
   "cell_type": "markdown",
   "metadata": {
    "cell_style": "split",
    "slideshow": {
     "slide_type": "fragment"
    }
   },
   "source": [
    "<img src=\"images/_1.jpg\" width=\"100%\">\n"
   ]
  },
  {
   "cell_type": "markdown",
   "metadata": {
    "cell_style": "split",
    "slideshow": {
     "slide_type": "fragment"
    }
   },
   "source": [
    "\n",
    "\"The Last Dance is a 2020 American sports documentary miniseries co-produced by ESPN Films and Netflix. Directed by Jason Hehir, the series revolves around the career of Michael Jordan, with particular focus on his last season with the Chicago Bulls. The series features exclusive footage from a film crew that had an all-access pass to the Bulls, as well as interviews of many NBA personalities including Jordan, Scottie Pippen, Dennis Rodman, Steve Kerr, and Phil Jackson.\"\n",
    " \n",
    "Source: Wikipedia"
   ]
  },
  {
   "cell_type": "markdown",
   "metadata": {
    "slideshow": {
     "slide_type": "subslide"
    }
   },
   "source": [
    "# Information extraction != coreference resolution\n",
    "\n",
    "+ 'Michael Jordan', 'MJ', 'GOAT', 'His Airness' are possible entities that \n",
    "   occurr in the data:\n",
    "   - IE detects these entities\n",
    "   - however, IE doesn't recognize the fact these entities are associated with same person\n",
    "     * that task is known as coreference resolution"
   ]
  },
  {
   "cell_type": "markdown",
   "metadata": {
    "slideshow": {
     "slide_type": "slide"
    }
   },
   "source": [
    "# Named Entity Recognition (NER)\n",
    "\n",
    "<img src=\"images/_2.png\" width=\"50%\">"
   ]
  },
  {
   "cell_type": "markdown",
   "metadata": {
    "slideshow": {
     "slide_type": "subslide"
    }
   },
   "source": [
    "# Types of entities\n",
    "\n",
    "<img src=\"images/_3.png\" width=\"70%\">"
   ]
  },
  {
   "cell_type": "markdown",
   "metadata": {
    "slideshow": {
     "slide_type": "subslide"
    }
   },
   "source": [
    "# Types of entities in spaCy's models\n",
    "\n",
    "<img src=\"images/_4.png\" width=\"60%\">"
   ]
  },
  {
   "cell_type": "markdown",
   "metadata": {
    "slideshow": {
     "slide_type": "subslide"
    }
   },
   "source": [
    "# Types of entities in spaCy's models (cont'd)\n",
    "\n",
    "<img src=\"images/_5.png\" width=\"60%\">"
   ]
  },
  {
   "cell_type": "markdown",
   "metadata": {
    "slideshow": {
     "slide_type": "subslide"
    }
   },
   "source": [
    "# Challenges in NER\n",
    "\n",
    "Recognition is difficult partly because of the ambiguity of segmentation; \n",
    "we need to decide:\n",
    "\n",
    "+ what’s an entity\n",
    "+ what isn’t\n",
    "+ where the boundaries are\n",
    "\n",
    "<img src=\"images/_6.png\" width=\"50%\">"
   ]
  },
  {
   "cell_type": "markdown",
   "metadata": {
    "slideshow": {
     "slide_type": "subslide"
    }
   },
   "source": [
    "# Challenges in NER (cont'd)\n",
    "\n",
    "Another difficulty is caused by type ambiguity ― the mention JFK can refer to:\n",
    "\n",
    "+ a person\n",
    "+ the airport in New York\n",
    "+ or any number of American:\n",
    "  - schools\n",
    "  - bridges \n",
    "  - streets\n",
    "  \n",
    "<img src=\"images/_7.png\" width=\"50%\">"
   ]
  },
  {
   "cell_type": "markdown",
   "metadata": {
    "slideshow": {
     "slide_type": "subslide"
    }
   },
   "source": [
    "# Implementation of NERs\n",
    "\n",
    "This topic is highly technical and falls beyond the scope of SMM694.\n",
    "\n",
    "Students who want to get a closer understanding of NER implementations: there \n",
    "are three main approaches:\n",
    "\n",
    "+ feature-based algorithm\n",
    "+ neural algorithm\n",
    "+ rule-based approach"
   ]
  },
  {
   "cell_type": "markdown",
   "metadata": {
    "slideshow": {
     "slide_type": "slide"
    }
   },
   "source": [
    "# Relation extraction\n",
    "\n",
    "Let's consider our working example:\n",
    "\n",
    "<img src='images/_10.png' width=50% >"
   ]
  },
  {
   "cell_type": "markdown",
   "metadata": {
    "slideshow": {
     "slide_type": "subslide"
    }
   },
   "source": [
    "# Relation extraction's scope\n",
    "\n",
    "The text tells us, for example, that:\n",
    "\n",
    "+ Tim Wagner is a spokesman for American Airlines\n",
    "+ United is a unit of UAL Corp\n",
    "+ American is a unit of AMR\n",
    "\n",
    "These binary relations are instances of more generic affiliation relations\n",
    "such as:\n",
    "\n",
    "+ part-of\n",
    "+ employment"
   ]
  },
  {
   "cell_type": "markdown",
   "metadata": {
    "slideshow": {
     "slide_type": "subslide"
    }
   },
   "source": [
    "# Map of possible relations to extract\n",
    "\n",
    "<img src='images/_11.png' width=60%>"
   ]
  },
  {
   "cell_type": "markdown",
   "metadata": {
    "slideshow": {
     "slide_type": "subslide"
    }
   },
   "source": [
    "# Examples of relations\n",
    "\n",
    "<img src='images/_12.png' width=50%>"
   ]
  },
  {
   "cell_type": "markdown",
   "metadata": {
    "slideshow": {
     "slide_type": "slide"
    }
   },
   "source": [
    "# Extracting times\n",
    "\n",
    "+ Times and dates are a particularly important kind of named entity\n",
    "  - thery play a role in longitudinal research designs (e.g., time-series analysis)\n",
    "+ After we extract these temporal expressions, times an dates must \n",
    "  be normalized. This is key to:\n",
    "  - appreciating the temporal distance between pairs of events\n",
    "  - creating complex timelines"
   ]
  },
  {
   "cell_type": "markdown",
   "metadata": {
    "slideshow": {
     "slide_type": "subslide"
    }
   },
   "source": [
    "# Types of temporal expressions\n",
    "\n",
    "+ Temporal expressions can take various forms:\n",
    "  - absolute points in time\n",
    "  - relative times\n",
    "  - durations\n",
    "  - sets of these\n",
    "+ **Absolute** temporal expressions are those that can be mapped directly to:\n",
    "  - calendar dates\n",
    "  - times of day\n",
    "  - both\n",
    "+ **Relative** temporal expressions map to particular times through some other \n",
    "  reference point, e.g. a week from last Tuesday\n",
    "+ **Durations** denote spans of time at varying levels of granularity (seconds, \n",
    "  minutes, days, weeks, centuries, etc.)"
   ]
  },
  {
   "cell_type": "markdown",
   "metadata": {
    "slideshow": {
     "slide_type": "subslide"
    }
   },
   "source": [
    "# Types of temporal expressions ― examples\n",
    "  \n",
    "<img src='images/_13.png' width=60%>"
   ]
  },
  {
   "cell_type": "markdown",
   "metadata": {
    "slideshow": {
     "slide_type": "subslide"
    }
   },
   "source": [
    "# Finding temporal expressions ― the role of temporal triggers\n",
    "\n",
    "+ Temporal expressions are grammatical constructions that have temporal \n",
    "  lexical triggers ― e.g.:\n",
    "  - nouns $\\rightarrow$ morning, noon, night, winter, dusk, dawn\n",
    "  - proper nouns $\\rightarrow$ January, Monday, Ides, Easter, Rosh Hashana, \n",
    "    Ramadan, Tet\n",
    "  - adjectives $\\rightarrow$ recent, past, annual, former\n",
    "  - adverbs $\\rightarrow$ hourly, daily, monthly, yearly\n",
    "+ Such lexical triggers can be exploited to find the start and end of\n",
    "  all of the text spans that correspond to such temporal expressions"
   ]
  },
  {
   "cell_type": "markdown",
   "metadata": {
    "slideshow": {
     "slide_type": "subslide"
    }
   },
   "source": [
    "# Normalizing temporal expressions\n",
    "\n",
    "+ Temporal normalization is the process of mapping a temporal expression to \n",
    "  either a specific point in time or to a duration\n",
    "  - Points in time correspond to calendar dates, to times of day, or both\n",
    "  - Durations primarily consist of lengths of time but may also include \n",
    "    information about start and end points\n",
    "    \n",
    "<img src='images/_14.png' width=50%>"
   ]
  },
  {
   "cell_type": "markdown",
   "metadata": {
    "slideshow": {
     "slide_type": "subslide"
    }
   },
   "source": [
    "# Temporal anchors\n",
    "\n",
    "+ Fully qualified temporal expressions are fairly rare in real texts\n",
    "+ Most temporal expressions in news articles are incomplete and are \n",
    "  only implicitly anchored, often with respect to the dateline of \n",
    "  the article, which we refer to as the document’s **temporal anchor**\n",
    "  Possible examples are:\n",
    "  - tomorrow\n",
    "  - three days ago\n",
    "  - next Monday"
   ]
  },
  {
   "cell_type": "markdown",
   "metadata": {
    "slideshow": {
     "slide_type": "slide"
    }
   },
   "source": [
    "# Extracting events and their times\n",
    "\n",
    "+ The task of event extraction is to identify mentions of events in texts\n",
    "+ For the purposes of this task, an event mention is any expression denoting \n",
    "  an event or state that can be assigned to a particular point, or interval, \n",
    "  in time\n",
    "+ Typically, events are classified as:\n",
    "  - actions\n",
    "  - states\n",
    "  - reporting events (introduced by verbs such as report, say, explained)\n",
    "  - perceptions"
   ]
  },
  {
   "cell_type": "markdown",
   "metadata": {
    "slideshow": {
     "slide_type": "subslide"
    }
   },
   "source": [
    "# Extracting events and their times (cont'd)"
   ]
  },
  {
   "cell_type": "markdown",
   "metadata": {
    "cell_style": "split",
    "slideshow": {
     "slide_type": "fragment"
    }
   },
   "source": [
    "\n",
    "+ With both the events and the temporal expressions in a text having been \n",
    "  detected, the next logical task is to use this information to fit the events \n",
    "  into a complete timeline\n",
    "+ A somewhat simpler, but still useful, task is to impose a partial ordering \n",
    "  on the events and temporal expressions mentioned in a text:\n"
   ]
  },
  {
   "cell_type": "markdown",
   "metadata": {
    "cell_style": "split",
    "slideshow": {
     "slide_type": "fragment"
    }
   },
   "source": [
    "<img src='images/_16.png' width=80%>"
   ]
  },
  {
   "cell_type": "markdown",
   "metadata": {
    "slideshow": {
     "slide_type": "slide"
    }
   },
   "source": [
    "# Example\n",
    "\n",
    "<img src='images/_17.png' width=50%>"
   ]
  },
  {
   "cell_type": "markdown",
   "metadata": {
    "slideshow": {
     "slide_type": "subslide"
    }
   },
   "source": [
    "# Skill-ML'scope: isolating unique skills\n",
    "\n",
    "<img src='images/_18.png' width=50%>"
   ]
  },
  {
   "cell_type": "markdown",
   "metadata": {
    "slideshow": {
     "slide_type": "subslide"
    }
   },
   "source": [
    "# Skill-ML's scope: clustering skills\n",
    "\n",
    "<img src='images/_19.png' width=50%>"
   ]
  },
  {
   "cell_type": "markdown",
   "metadata": {
    "slideshow": {
     "slide_type": "subslide"
    }
   },
   "source": [
    "# Skill-ML's scope: matching skills with occupations\n",
    "\n",
    "<img src='images/_20.png' width=50%>"
   ]
  }
 ],
 "metadata": {
  "celltoolbar": "Slideshow",
  "kernelspec": {
   "display_name": "Python 3",
   "language": "python",
   "name": "python3"
  },
  "language_info": {
   "codemirror_mode": {
    "name": "ipython",
    "version": 3
   },
   "file_extension": ".py",
   "mimetype": "text/x-python",
   "name": "python",
   "nbconvert_exporter": "python",
   "pygments_lexer": "ipython3",
   "version": "3.7.3"
  },
  "latex_envs": {
   "LaTeX_envs_menu_present": true,
   "autoclose": false,
   "autocomplete": true,
   "bibliofile": "biblio.bib",
   "cite_by": "apalike",
   "current_citInitial": 1,
   "eqLabelWithNumbers": true,
   "eqNumInitial": 1,
   "hotkeys": {
    "equation": "Ctrl-E",
    "itemize": "Ctrl-I"
   },
   "labels_anchors": false,
   "latex_user_defs": false,
   "report_style_numbering": false,
   "user_envs_cfg": false
  },
  "toc": {
   "base_numbering": 1,
   "nav_menu": {},
   "number_sections": false,
   "sideBar": true,
   "skip_h1_title": false,
   "title_cell": "Table of Contents",
   "title_sidebar": "Contents",
   "toc_cell": false,
   "toc_position": {},
   "toc_section_display": true,
   "toc_window_display": false
  },
  "toc-autonumbering": true,
  "toc-showcode": true,
  "varInspector": {
   "cols": {
    "lenName": 16,
    "lenType": 16,
    "lenVar": 40
   },
   "kernels_config": {
    "python": {
     "delete_cmd_postfix": "",
     "delete_cmd_prefix": "del ",
     "library": "var_list.py",
     "varRefreshCmd": "print(var_dic_list())"
    },
    "r": {
     "delete_cmd_postfix": ") ",
     "delete_cmd_prefix": "rm(",
     "library": "var_list.r",
     "varRefreshCmd": "cat(var_dic_list()) "
    }
   },
   "types_to_exclude": [
    "module",
    "function",
    "builtin_function_or_method",
    "instance",
    "_Feature"
   ],
   "window_display": false
  }
 },
 "nbformat": 4,
 "nbformat_minor": 4
}
