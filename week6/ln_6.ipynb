{
 "cells": [
  {
   "cell_type": "markdown",
   "metadata": {},
   "source": [
    "# Week 6\n",
    "\n",
    "# ―Information extraction\n",
    "\n",
    "<img src=\"images/_0.png\" width=\"30%\" >"
   ]
  },
  {
   "cell_type": "markdown",
   "metadata": {},
   "source": [
    "# A prototpycal information extraction task\n",
    "\n",
    "Imagine that you are an analyst with an investment firm that tracks airline \n",
    "stocks:\n",
    "\n",
    "+ You’re given the task of determining the relationship (if any) between \n",
    "  airline announcements of fare increases and the behavior of their \n",
    "  stocks the next day\n",
    "+ Historical data about stock prices is easy to come by, but what about \n",
    "  the airline an- nouncements?\n",
    "  * You will need to know at least:\n",
    "    - the name of the airline\n",
    "    - the nature of the proposed fare hike\n",
    "    - the dates of the announcement\n",
    "    - the response of other airlines."
   ]
  },
  {
   "cell_type": "markdown",
   "metadata": {},
   "source": [
    "# A prototypical document to process\n",
    "\n",
    "```\n",
    "Citing high fuel prices, United Airlines said Friday it has increased fares \n",
    "by $6 per round trip on flights to some cities also served by lower- cost \n",
    "carriers. American Airlines, a unit of AMR Corp., immediately matched the \n",
    "move, spokesman Tim Wagner said. United, a unit ofUAL Corp., said the \n",
    "increase took effect Thursday and applies to most routes where it competes \n",
    "against discount carriers, such as Chicago to Dallas and Denver to San Francisco.\n",
    "```"
   ]
  },
  {
   "cell_type": "markdown",
   "metadata": {},
   "source": [
    "# The information extraction process\n",
    "\n",
    "+ This process of information extraction (IE), turns the unstructured\n",
    "  information embedded in texts into structured data\n",
    "  - by structured data, we mean annotated words or combination of words\n",
    "  - these structured data can be used in different ways:\n",
    "    * to  populate a relational databases\n",
    "    * as features to be post-processed in a stat/ML analysis (e.g., to\n",
    "      cluster standard errors around entities, being companies, products,\n",
    "      or individuals)"
   ]
  },
  {
   "cell_type": "markdown",
   "metadata": {},
   "source": [
    "# The information extraction process\n",
    "\n",
    "+ Named Entity Recognition $\\rightarrow$ locating names of companies, people, \n",
    "  or products\n",
    "+ Relation extraction  $\\rightarrow$ appreciating how two tokens are connected (e.g., employment relationship)\n",
    "+ Event extraction $\\rightarrow$ finding entity-event affiliations\n",
    "+ Temporal expressions $\\rightarrow$ isolating `datetime` and `deltatime` quantities\n",
    "+ Temporal normalization $\\rightarrow$ producing a timeline"
   ]
  },
  {
   "cell_type": "markdown",
   "metadata": {},
   "source": [
    "# Information extraction != coreference resolution\n",
    "\n",
    "<img src=\"images/_1.jpg\" width=\"50%\">\n",
    "\n",
    "```\n",
    "The Last Dance is a 2020 American sports documentary miniseries co-produced by ESPN Films and Netflix. Directed by Jason Hehir, the series revolves around the career of Michael Jordan, with particular focus on his last season with the Chicago Bulls. The series features exclusive footage from a film crew that had an all-access pass to the Bulls, as well as interviews of many NBA personalities including Jordan, Scottie Pippen, Dennis Rodman, Steve Kerr, and Phil Jackson. \n",
    "```\n",
    "\n",
    "+ 'Michael Jordan', 'MJ', 'GOAT', 'His Airness' are possible entities that \n",
    "   occurr in the data:\n",
    "   - IE detects these entities\n",
    "   - however, IE doesn't recognize the fact these entities are associated with same person\n",
    "     * that task is known as coreference resolution"
   ]
  },
  {
   "cell_type": "markdown",
   "metadata": {},
   "source": [
    "# Named Entity Recognition (NER)\n",
    "\n",
    "<img src=\"images/_2.png\" width=\"75%\">"
   ]
  },
  {
   "cell_type": "markdown",
   "metadata": {},
   "source": [
    "# Types of entities\n",
    "\n",
    "<img src=\"images/_3.png\" width=\"75%\">"
   ]
  },
  {
   "cell_type": "markdown",
   "metadata": {},
   "source": [
    "# Types of entities in spaCy's models\n",
    "\n",
    "<img src=\"images/_4.png\" width=\"50%\">"
   ]
  },
  {
   "cell_type": "markdown",
   "metadata": {},
   "source": [
    "# Types of entities in spaCy's models (cont'd)\n",
    "\n",
    "<img src=\"images/_5.png\" width=\"50%\">"
   ]
  },
  {
   "cell_type": "markdown",
   "metadata": {},
   "source": [
    "# Challenges in NER\n",
    "\n",
    "Recognition is difficult partly because of the ambiguity of segmentation; \n",
    "we need to decide:\n",
    "\n",
    "+ what’s an entity\n",
    "+ what isn’t\n",
    "+ where the boundaries are\n",
    "\n",
    "<img src=\"images/_6.png\" width=\"50%\">"
   ]
  },
  {
   "cell_type": "markdown",
   "metadata": {},
   "source": [
    "# Challenges in NER (cont'd)\n",
    "\n",
    "Another difficulty is caused by type ambiguity ― the mention JFK can refer to:\n",
    "\n",
    "+ a person\n",
    "+ the airport in New York\n",
    "+ or any number of American:\n",
    "  - schools\n",
    "  - bridges \n",
    "  - streets\n",
    "  \n",
    "<img src=\"images/_7.png\" width=\"50%\">"
   ]
  },
  {
   "cell_type": "code",
   "execution_count": null,
   "metadata": {},
   "outputs": [],
   "source": []
  }
 ],
 "metadata": {
  "kernelspec": {
   "display_name": "Python 3",
   "language": "python",
   "name": "python3"
  },
  "language_info": {
   "codemirror_mode": {
    "name": "ipython",
    "version": 3
   },
   "file_extension": ".py",
   "mimetype": "text/x-python",
   "name": "python",
   "nbconvert_exporter": "python",
   "pygments_lexer": "ipython3",
   "version": "3.7.3"
  }
 },
 "nbformat": 4,
 "nbformat_minor": 4
}
